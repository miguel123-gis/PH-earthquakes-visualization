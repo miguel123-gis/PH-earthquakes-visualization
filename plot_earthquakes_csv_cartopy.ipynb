{
 "cells": [
  {
   "cell_type": "markdown",
   "id": "178ed75c",
   "metadata": {},
   "source": [
    "### Plot earthquakes in the Philippines using <font color=fucshia>_matplotlib_</font>, <font color=green>_csv_</font>, and <font color=orange>_cartopy_</font> in Python\n",
    "__We won't use <font color=navy>Pandas</font> and <font color=purple>Geopandas</font> here so we get familiarized with the csv library__ (and keep our environment small :D)"
   ]
  },
  {
   "cell_type": "markdown",
   "id": "bf3c6a5f",
   "metadata": {},
   "source": [
    "Before we start importing the necessary packages, let's first download our __list of earthquakes__ from CSEM EMSC via their 'Search earthquakes' function. \n",
    "1. Go to this link https://www.emsc-csem.org/Earthquake/?filter=yes\n",
    "2. In the 'Region Name' form, type 'Philippines'  and select all.\n",
    "3. In the 'Felt Earthquakes' form, tick the box and set the 'Min' and 'Max' to I to VIII. \n",
    "4. Download the list as csv.\n",
    "\n",
    "Now, you need to __install Miniconda or Anaconda__. Basically, it's a package manager which lets you easily download any Python package/library. I recommend installing a package via `conda-forge` instead of `conda only` like `conda install -c conda-forge geopandas` instead of `conda install geopandas`. \n",
    "\n",
    "Here are the __libraries and packages__ you need to install. For those new to Python, use Anaconda instead of Miniconda the former has a GUI while the latter uses a command line. Basically, Anaconda lets you just click the packages you want to install. It took me weeks to figure out how mini/Anaconda works, how to properly install packages, etc. \n",
    "\n",
    "1. cartopy https://anaconda.org/conda-forge/cartopy for geometry operations and basemap function\n",
    "2. matplotlib https://anaconda.org/conda-forge/matplotlib for plotting the map\n",
    "3. natsort https://anaconda.org/anaconda/natsort to sort your files alphabetically\n",
    "4. tqdm https://anaconda.org/conda-forge/tqdm for the progress bar while the photos are being exported\n",
    "5. opencv https://anaconda.org/conda-forge/opencv to compile the maps and convert to video\n"
   ]
  },
  {
   "cell_type": "markdown",
   "id": "40d8ca68",
   "metadata": {},
   "source": [
    "__Import packages__ and set working directory. You can set the working directory using `os.chdir(r'folder_path')` because sometimes the script doesn't work because some files cannot be found by Python."
   ]
  },
  {
   "cell_type": "code",
   "execution_count": 1,
   "id": "19bb0bcc",
   "metadata": {},
   "outputs": [],
   "source": [
    "import os\n",
    "import csv\n",
    "import imageio\n",
    "import numpy as np\n",
    "import matplotlib.pyplot as plt\n",
    "import matplotlib.lines as mlines\n",
    "import cartopy.crs as ccrs\n",
    "import cartopy.io.img_tiles as cimgt\n",
    "from cartopy.feature import ShapelyFeature\n",
    "from cartopy.io.shapereader import Reader\n",
    "from datetime import datetime \n",
    "from tqdm import tqdm\n",
    "from natsort import humansorted\n",
    "# os.chdir(r'C:\\Users\\imper\\Documents\\new_GISfiles\\earthquakesPH')"
   ]
  },
  {
   "cell_type": "markdown",
   "id": "53adcc5a",
   "metadata": {},
   "source": [
    "Add this line in your Jupyter Notebooks to make sure your __Matplotlib plots are shown inside the notebook.__"
   ]
  },
  {
   "cell_type": "code",
   "execution_count": 2,
   "id": "60e4bb8c",
   "metadata": {},
   "outputs": [],
   "source": [
    "%matplotlib inline "
   ]
  },
  {
   "cell_type": "markdown",
   "id": "27ae965e",
   "metadata": {},
   "source": [
    "Set the bounds as a list. A bounding box is formed using the __coordinates of the lower left point and upper right points__. In this list, the format is `[latitude lleft, latitude uright, longitude  lleft, longitude uright]`;\n",
    "\n",
    "set the basemap as Stamen's `terrain-background` map https://scitools.org.uk/cartopy/docs/latest/gallery/eyja_volcano.html; \n",
    "\n",
    "read the fault lines shapefile;\n",
    "\n",
    "and finally, set the folder where you will save all the pictures of the map for each earthquake. "
   ]
  },
  {
   "cell_type": "code",
   "execution_count": 11,
   "id": "d211a3bb",
   "metadata": {},
   "outputs": [],
   "source": [
    "bounds = [116.9283371, 126.90534668, 4.58693981, 21.07014084]\n",
    "stamen_terrain = cimgt.Stamen('terrain-background')\n",
    "fault_line = ShapelyFeature(Reader('./faultLines.shp').geometries(), \n",
    "                            ccrs.epsg(32651), linewidth=1, \n",
    "                            edgecolor='black', facecolor='None')\n",
    "save_path = r'.//'  \n",
    "date,time,lon,lat,mag = [],[],[],[],[]"
   ]
  },
  {
   "cell_type": "markdown",
   "id": "0065e477",
   "metadata": {},
   "source": [
    "Read the earthquakes csv. We use `next()` to skip the first row which are the column titles. Make sure to __check first the csv__ before importing to make sure you are setting the __correct delimiter__. Take note that I renamed the column titles of the columns/field I'll use to a shorter name in lowercase.\n",
    "\n",
    "The `sorted` function sorts the csv by the `date` then `time`. You can set the range to 5 so it will only produce 5 maps/pictures if you are still testing the code. "
   ]
  },
  {
   "cell_type": "code",
   "execution_count": null,
   "id": "c4f43a48",
   "metadata": {},
   "outputs": [],
   "source": [
    "with open ('./export_EMSC_Jul2011-Apr2021.csv') as file:\n",
    "    reader = csv.reader(file, delimiter=';') \n",
    "    next(reader)\n",
    "    date_sorted = sorted(reader, key=lambda col: datetime.strptime\n",
    "                         (col[0] + ' ' + col[1], '%Y-%m-%d %H:%M:%S'))\n",
    "    for col in date_sorted:\n",
    "        date.append(col[0])\n",
    "        time.append(str(col[1]))\n",
    "        lat.append(int(float(col[2])))\n",
    "        lon.append(int(float(col[3])))\n",
    "        mag.append(int(float(col[7])))\n",
    "    index = range(len(date_sorted))\n",
    "#     index = range(10)"
   ]
  },
  {
   "cell_type": "markdown",
   "id": "7979162d",
   "metadata": {},
   "source": [
    "To get a map of each earthquake, we need to use a `for loop()` to __iterate/read each row in the csv__, extract all the needed information, and make the map, and save it in a folder.\n",
    "\n",
    "And while the loop is running, we will also run a __progress bar__ which says which row is being iterated out of the total rows. We put the loop inside `tdqm()` and update the progress bar for each row that is iterated/read.\n",
    "\n",
    "`with tqdm(index) as pbar:\n",
    "   for loop()\n",
    "   for each row iterated:\n",
    "       update the progress bar`"
   ]
  },
  {
   "cell_type": "markdown",
   "id": "6e5a0a2f",
   "metadata": {},
   "source": [
    "Now we will make our `for loop()`. The __first line__ assigns an index to each of the column we will use in the csv. __Lines 2-7__ will set up the map, __line 8__ will set the title for each map based on the row's/earthquake's date and time, __line 9__ will plot the earthquake based on the coordinates, and __line 10__ will add the fault line above the basemap but below the marker.\n",
    "\n",
    "__Line 20__ will save each map in your disk and name the file based on its index so that when we convert the pictures to a video, the maps are compiled in proper order. You can comment out Line 19 and un-comment line 20 to __just show the map instead of saving__ each one."
   ]
  },
  {
   "cell_type": "code",
   "execution_count": null,
   "id": "bc9774b3",
   "metadata": {
    "scrolled": true
   },
   "outputs": [],
   "source": [
    "for id,d,t,x,y,m,i in zip(tqdm(range(len(index))),date,time,lon,lat,mag,index):\n",
    "    fig = plt.figure(figsize=(15,10), dpi=250) \n",
    "    ax  = fig.add_subplot(1, 1, 1, projection=ccrs.PlateCarree()) \n",
    "    d = datetime.strptime(d, '%Y-%m-%d')\n",
    "    d = d.strftime('%Y %b %d')\n",
    "    ax.set_extent(bounds) \n",
    "#     ax.add_image(stamen_terrain, 8)\n",
    "    plt.suptitle('Earthquakes in the Philippines from 2011 to 2021' + \n",
    "                 '\\n' +'with active fault lines' + \n",
    "                 '\\n' + str(d) + ' --- ' + str(t) +\n",
    "                 '\\n' + 'Magnitude: ' + str(m) +\n",
    "                 ' --- ' + str(i+1) + '/' + str(len(index)),\n",
    "                 ha='left', x=0.363, y=0.97)\n",
    "    ax.plot(x, y, 'ro', markersize=5) \n",
    "    ax.add_feature(fault_line, zorder=1)\n",
    "    fault_line_legend = mlines.Line2D([1], [1], color='black')\n",
    "    ax.legend([fault_line_legend], ['Fault lines'], loc='lower left', fancybox='True')\n",
    "    plt.savefig(save_path+'eq{}'.format(i+1))\n",
    "#     plt.show()    "
   ]
  },
  {
   "cell_type": "markdown",
   "id": "e8968af9",
   "metadata": {},
   "source": [
    "Compile all the maps and __convert to a video__ using imageio."
   ]
  },
  {
   "cell_type": "code",
   "execution_count": 4,
   "id": "75bd4871",
   "metadata": {},
   "outputs": [
    {
     "name": "stderr",
     "output_type": "stream",
     "text": [
      "IMAGEIO FFMPEG_WRITER WARNING: input image is not divisible by macro_block_size=16, resizing from (3750, 2500) to (3760, 2512) to ensure video compatibility with most codecs and players. To prevent resizing, make your input image divisible by the macro_block_size or set the macro_block_size to 1 (risking incompatibility).\n"
     ]
    }
   ],
   "source": [
    "filenames = humansorted([fn for fn in os.listdir('.') if fn.endswith('.png')])\n",
    "fps = 2             # Desired, \"real\" frames per second\n",
    "fps_vlc = 30        # Frames per second needed for proper playback in VLC\n",
    "with imageio.get_writer('earthquake_video.mp4', fps=fps_vlc) as writer:\n",
    "    for filename in filenames:\n",
    "        image = imageio.imread(filename)\n",
    "        for i in range(fps_vlc // fps):\n",
    "            writer.append_data(image)\n",
    "    writer.close()"
   ]
  },
  {
   "cell_type": "markdown",
   "id": "f9084483",
   "metadata": {},
   "source": [
    "That's it! This is a simple visualization I made when I was starting in Python. Putting this in a Jupyter Notebook made it easier to explain the process. You can download the repository on github and modify the code to do further analyses like showing which areas are affected in each earthquake or leave a transluscent mark for each earthquake to make a density map showing which areas frequently experience an earthquake.\n",
    "\n",
    "This Notebook is for anyone to use.  :D\n",
    "\n",
    "-- [Miguel Imperial](#https://www.linkedin.com/in/miguel-imperial-8abaa31a0/)"
   ]
  }
 ],
 "metadata": {
  "celltoolbar": "Raw Cell Format",
  "kernelspec": {
   "display_name": "Python 3",
   "language": "python",
   "name": "python3"
  },
  "language_info": {
   "codemirror_mode": {
    "name": "ipython",
    "version": 3
   },
   "file_extension": ".py",
   "mimetype": "text/x-python",
   "name": "python",
   "nbconvert_exporter": "python",
   "pygments_lexer": "ipython3",
   "version": "3.9.2"
  }
 },
 "nbformat": 4,
 "nbformat_minor": 5
}
